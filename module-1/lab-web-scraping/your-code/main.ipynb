{
 "cells": [
  {
   "cell_type": "markdown",
   "metadata": {},
   "source": [
    "# Web Scraping Lab\n",
    "\n",
    "You will find in this notebook some scrapy exercises to practise your scraping skills.\n",
    "\n",
    "**Tips:**\n",
    "\n",
    "- Check the response status code for each request to ensure you have obtained the intended contennt.\n",
    "- Print the response text in each request to understand the kind of info you are getting and its format.\n",
    "- Check for patterns in the response text to extract the data/info requested in each question.\n",
    "- Visit each url and take a look at its source through Chrome DevTools. You'll need to identify the html tags, special class names etc. used for the html content you are expected to extract."
   ]
  },
  {
   "cell_type": "markdown",
   "metadata": {},
   "source": [
    "- [Requests library](http://docs.python-requests.org/en/master/#the-user-guide) documentation \n",
    "- [Beautiful Soup Doc](https://www.crummy.com/software/BeautifulSoup/bs4/doc/)\n",
    "- [Urllib](https://docs.python.org/3/library/urllib.html#module-urllib)\n",
    "- [re lib](https://docs.python.org/3/library/re.html)\n",
    "- [lxml lib](https://lxml.de/)\n",
    "- [Scrapy](https://scrapy.org/)\n",
    "- [List of HTTP status codes](https://en.wikipedia.org/wiki/List_of_HTTP_status_codes)\n",
    "- [HTML basics](http://www.simplehtmlguide.com/cheatsheet.php)\n",
    "- [CSS basics](https://www.cssbasics.com/#page_start)"
   ]
  },
  {
   "cell_type": "markdown",
   "metadata": {},
   "source": [
    "#### Below are the libraries and modules you may need. `requests`,  `BeautifulSoup` and `pandas` are imported for you. If you prefer to use additional libraries feel free to uncomment them."
   ]
  },
  {
   "cell_type": "code",
   "execution_count": 188,
   "metadata": {},
   "outputs": [],
   "source": [
    "import requests\n",
    "from bs4 import BeautifulSoup\n",
    "import pandas as pd\n",
    "# from pprint import pprint\n",
    "# from lxml import html\n",
    "# from lxml.html import fromstring\n",
    "# import urllib.request\n",
    "# from urllib.request import urlopen\n",
    "# import random\n",
    "import re\n",
    "# import scrapy"
   ]
  },
  {
   "cell_type": "markdown",
   "metadata": {},
   "source": [
    "#### Download, parse (using BeautifulSoup), and print the content from the Trending Developers page from GitHub:"
   ]
  },
  {
   "cell_type": "code",
   "execution_count": 189,
   "metadata": {},
   "outputs": [],
   "source": [
    "# This is the url you will scrape in this exercise\n",
    "url = 'https://github.com/trending/developers'\n",
    "data = requests.get(url)\n",
    "html = data.text\n",
    "soup = BeautifulSoup(html)"
   ]
  },
  {
   "cell_type": "markdown",
   "metadata": {},
   "source": [
    "#### Display the names of the trending developers retrieved in the previous step.\n",
    "\n",
    "Your output should be a Python list of developer names. Each name should not contain any html tag.\n",
    "\n",
    "**Instructions:**\n",
    "\n",
    "1. Find out the html tag and class names used for the developer names. You can achieve this using Chrome DevTools.\n",
    "\n",
    "1. Use BeautifulSoup to extract all the html elements that contain the developer names.\n",
    "\n",
    "1. Use string manipulation techniques to replace whitespaces and linebreaks (i.e. `\\n`) in the *text* of each html element. Use a list to store the clean names.\n",
    "\n",
    "1. Print the list of names.\n",
    "\n",
    "Your output should look like below:\n",
    "\n",
    "```\n",
    "['trimstray (@trimstray)',\n",
    " 'joewalnes (JoeWalnes)',\n",
    " 'charlax (Charles-AxelDein)',\n",
    " 'ForrestKnight (ForrestKnight)',\n",
    " 'revery-ui (revery-ui)',\n",
    " 'alibaba (Alibaba)',\n",
    " 'Microsoft (Microsoft)',\n",
    " 'github (GitHub)',\n",
    " 'facebook (Facebook)',\n",
    " 'boazsegev (Bo)',\n",
    " 'google (Google)',\n",
    " 'cloudfetch',\n",
    " 'sindresorhus (SindreSorhus)',\n",
    " 'tensorflow',\n",
    " 'apache (TheApacheSoftwareFoundation)',\n",
    " 'DevonCrawford (DevonCrawford)',\n",
    " 'ARMmbed (ArmMbed)',\n",
    " 'vuejs (vuejs)',\n",
    " 'fastai (fast.ai)',\n",
    " 'QiShaoXuan (Qi)',\n",
    " 'joelparkerhenderson (JoelParkerHenderson)',\n",
    " 'torvalds (LinusTorvalds)',\n",
    " 'CyC2018',\n",
    " 'komeiji-satori (神楽坂覚々)',\n",
    " 'script-8']\n",
    " ```"
   ]
  },
  {
   "cell_type": "code",
   "execution_count": 190,
   "metadata": {},
   "outputs": [
    {
     "data": {
      "text/plain": [
       "['Jason Quense (jquense)',\n",
       " 'Hadley Wickham (hadley)',\n",
       " 'Ran Luo (Jocs)',\n",
       " 'Wojciech Maj (wojtekmaj)',\n",
       " 'Emmanuel Garcia (blasten)',\n",
       " 'Francois Zaninotto (fzaninotto)',\n",
       " 'Felix Becker (felixfbecker)',\n",
       " 'Tanner Linsley (tannerlinsley)',\n",
       " 'William Falcon (williamFalcon)',\n",
       " 'Björn Kimminich (bkimminich)',\n",
       " 'Gregor Santner (gsantner)',\n",
       " 'David Rodríguez (deivid-rodriguez)',\n",
       " 'Anton Babenko (antonbabenko)',\n",
       " 'Florimond Manca (florimondmanca)',\n",
       " 'francisco souza (fsouza)',\n",
       " 'Colin Fay (ColinFay)',\n",
       " 'Megan Marsh (SwampDragons)',\n",
       " 'Krzysztof Magiera (kmagiera)',\n",
       " 'Nicolas Widart (nWidart)',\n",
       " 'Zac Sweers (ZacSweers)',\n",
       " 'Julien Danjou (jd)',\n",
       " 'Andreas Mueller (amueller)',\n",
       " 'Alexander Bezobchuk (alexanderbez)',\n",
       " 'Kyle Mathews (KyleAMathews)',\n",
       " 'Kevin Ushey (kevinushey)']"
      ]
     },
     "execution_count": 190,
     "metadata": {},
     "output_type": "execute_result"
    }
   ],
   "source": [
    "developers = soup.find_all(\"h1\", class_=\"h3 lh-condensed\")\n",
    "nicknames = soup.find_all(\"p\", class_=\"f4 text-normal mb-1\")\n",
    "develop = [] \n",
    "nickn = [] \n",
    "final = []\n",
    "for d in range(len(developers)):\n",
    "    names = developers[d].find(\"a\").text\n",
    "    develop.append(names.strip())\n",
    "    n = nicknames[d].find(\"a\").text\n",
    "    nickn.append(n.strip())\n",
    "    \n",
    "for x in range(len(develop)):\n",
    "    final.append(\"{} ({})\".format(develop[x],nickn[x]))\n",
    "final    \n"
   ]
  },
  {
   "cell_type": "markdown",
   "metadata": {},
   "source": [
    "#### Display the trending Python repositories in GitHub\n",
    "\n",
    "The steps to solve this problem is similar to the previous one except that you need to find out the repository names instead of developer names."
   ]
  },
  {
   "cell_type": "code",
   "execution_count": 191,
   "metadata": {},
   "outputs": [],
   "source": [
    "# This is the url you will scrape in this exercise\n",
    "url = 'https://github.com/trending/python?since=daily'"
   ]
  },
  {
   "cell_type": "code",
   "execution_count": 192,
   "metadata": {},
   "outputs": [],
   "source": [
    "data = requests.get(url)\n",
    "html = data.text\n",
    "soup = BeautifulSoup(html)\n",
    "repositories = soup.find_all(\"h1\", class_=\"h3 lh-condensed\")"
   ]
  },
  {
   "cell_type": "code",
   "execution_count": 193,
   "metadata": {},
   "outputs": [
    {
     "name": "stdout",
     "output_type": "stream",
     "text": [
      "['openai/gpt-2', 'openai/gpt-2-output-dataset', 'pandas-dev/pandas', 'shenweichen/DeepCTR', 'deezer/spleeter', 'PaddlePaddle/models', '0voice/interview_internal_reference', 'locustio/locust', 'wangzheng0822/algo', 'getsentry/sentry', 'facebookresearch/detectron2', 'tensorflow/models', 'Morizeyao/GPT2-Chinese', 'apache/airflow', 'elastic/helm-charts', 'b17zr/ntlm_challenger', 'huggingface/transformers', 'facebookresearch/hydra', 'PaddlePaddle/ERNIE', 'wistbean/learn_python3_spider', 'snakers4/open_stt', 'rusty1s/pytorch_geometric', 'docker/compose', 'Neo23x0/sigma']\n"
     ]
    }
   ],
   "source": [
    "repos_final = []\n",
    "for r in repositories:\n",
    "    repos = r.find(\"a\").attrs[\"href\"]\n",
    "    repos_final.append(repos[1:])\n",
    "print(repos_final)"
   ]
  },
  {
   "cell_type": "markdown",
   "metadata": {},
   "source": [
    "#### Display all the image links from Walt Disney wikipedia page"
   ]
  },
  {
   "cell_type": "code",
   "execution_count": 194,
   "metadata": {},
   "outputs": [],
   "source": [
    "# This is the url you will scrape in this exercise\n",
    "url = 'https://en.wikipedia.org/wiki/Walt_Disney'\n",
    "data = requests.get(url)\n",
    "html = data.text\n",
    "soup = BeautifulSoup(html)\n",
    "images = soup.find_all(\"img\")"
   ]
  },
  {
   "cell_type": "code",
   "execution_count": 195,
   "metadata": {},
   "outputs": [
    {
     "data": {
      "text/plain": [
       "['https://upload.wikimedia.org/wikipedia/en/thumb/e/e7/Cscr-featured.svg/20px-Cscr-featured.svg.png',\n",
       " 'https://upload.wikimedia.org/wikipedia/en/thumb/1/1b/Semi-protection-shackle.svg/20px-Semi-protection-shackle.svg.png',\n",
       " 'https://upload.wikimedia.org/wikipedia/commons/thumb/d/df/Walt_Disney_1946.JPG/220px-Walt_Disney_1946.JPG',\n",
       " 'https://upload.wikimedia.org/wikipedia/commons/thumb/8/87/Walt_Disney_1942_signature.svg/150px-Walt_Disney_1942_signature.svg.png',\n",
       " 'https://upload.wikimedia.org/wikipedia/commons/thumb/c/c4/Walt_Disney_envelope_ca._1921.jpg/220px-Walt_Disney_envelope_ca._1921.jpg',\n",
       " 'https://upload.wikimedia.org/wikipedia/commons/thumb/4/4d/Newman_Laugh-O-Gram_%281921%29.webm/220px-seek%3D2-Newman_Laugh-O-Gram_%281921%29.webm.jpg',\n",
       " 'https://upload.wikimedia.org/wikipedia/commons/thumb/0/0d/Trolley_Troubles_poster.jpg/170px-Trolley_Troubles_poster.jpg',\n",
       " 'https://upload.wikimedia.org/wikipedia/commons/thumb/7/71/Walt_Disney_and_his_cartoon_creation_%22Mickey_Mouse%22_-_National_Board_of_Review_Magazine.jpg/170px-Walt_Disney_and_his_cartoon_creation_%22Mickey_Mouse%22_-_National_Board_of_Review_Magazine.jpg',\n",
       " 'https://upload.wikimedia.org/wikipedia/en/thumb/4/4e/Steamboat-willie.jpg/170px-Steamboat-willie.jpg',\n",
       " 'https://upload.wikimedia.org/wikipedia/commons/thumb/5/57/Walt_Disney_1935.jpg/170px-Walt_Disney_1935.jpg',\n",
       " 'https://upload.wikimedia.org/wikipedia/commons/thumb/c/cd/Walt_Disney_Snow_white_1937_trailer_screenshot_%2813%29.jpg/220px-Walt_Disney_Snow_white_1937_trailer_screenshot_%2813%29.jpg',\n",
       " 'https://upload.wikimedia.org/wikipedia/commons/thumb/1/15/Disney_drawing_goofy.jpg/170px-Disney_drawing_goofy.jpg',\n",
       " 'https://upload.wikimedia.org/wikipedia/commons/thumb/1/13/DisneySchiphol1951.jpg/220px-DisneySchiphol1951.jpg',\n",
       " 'https://upload.wikimedia.org/wikipedia/commons/thumb/8/8c/WaltDisneyplansDisneylandDec1954.jpg/220px-WaltDisneyplansDisneylandDec1954.jpg',\n",
       " 'https://upload.wikimedia.org/wikipedia/commons/thumb/f/ff/Walt_disney_portrait_right.jpg/170px-Walt_disney_portrait_right.jpg',\n",
       " 'https://upload.wikimedia.org/wikipedia/commons/thumb/1/1a/Walt_Disney_Grave.JPG/170px-Walt_Disney_Grave.JPG',\n",
       " 'https://upload.wikimedia.org/wikipedia/commons/thumb/2/2d/Roy_O._Disney_with_Company_at_Press_Conference.jpg/170px-Roy_O._Disney_with_Company_at_Press_Conference.jpg',\n",
       " 'https://upload.wikimedia.org/wikipedia/commons/thumb/a/a9/Disney_Display_Case.JPG/170px-Disney_Display_Case.JPG',\n",
       " 'https://upload.wikimedia.org/wikipedia/commons/thumb/6/6c/Disney1968.jpg/170px-Disney1968.jpg',\n",
       " 'https://upload.wikimedia.org/wikipedia/en/thumb/8/8a/OOjs_UI_icon_edit-ltr-progressive.svg/10px-OOjs_UI_icon_edit-ltr-progressive.svg.png',\n",
       " 'https://upload.wikimedia.org/wikipedia/commons/thumb/d/da/Animation_disc.svg/30px-Animation_disc.svg.png',\n",
       " 'https://upload.wikimedia.org/wikipedia/en/thumb/6/69/P_vip.svg/29px-P_vip.svg.png',\n",
       " 'https://upload.wikimedia.org/wikipedia/commons/thumb/1/1a/Magic_Kingdom_castle.jpg/24px-Magic_Kingdom_castle.jpg',\n",
       " 'https://upload.wikimedia.org/wikipedia/en/thumb/e/e7/Video-x-generic.svg/30px-Video-x-generic.svg.png',\n",
       " 'https://upload.wikimedia.org/wikipedia/commons/thumb/a/a3/Flag_of_Los_Angeles_County%2C_California.svg/30px-Flag_of_Los_Angeles_County%2C_California.svg.png',\n",
       " 'https://upload.wikimedia.org/wikipedia/commons/thumb/8/8c/Blank_television_set.svg/30px-Blank_television_set.svg.png',\n",
       " 'https://upload.wikimedia.org/wikipedia/en/thumb/a/a4/Flag_of_the_United_States.svg/30px-Flag_of_the_United_States.svg.png',\n",
       " 'https://upload.wikimedia.org/wikipedia/en/thumb/4/4a/Commons-logo.svg/22px-Commons-logo.svg.png',\n",
       " 'https://upload.wikimedia.org/wikipedia/commons/thumb/f/fa/Wikiquote-logo.svg/25px-Wikiquote-logo.svg.png',\n",
       " 'https://upload.wikimedia.org/wikipedia/commons/thumb/f/ff/Wikidata-logo.svg/30px-Wikidata-logo.svg.png',\n",
       " 'https://upload.wikimedia.org/wikipedia/en/thumb/8/8a/OOjs_UI_icon_edit-ltr-progressive.svg/10px-OOjs_UI_icon_edit-ltr-progressive.svg.png',\n",
       " 'https://en.wikipedia.org/wiki/Special:CentralAutoLogin/start?type=1x1',\n",
       " 'https:/static/images/wikimedia-button.png',\n",
       " 'https:/static/images/poweredby_mediawiki_88x31.png']"
      ]
     },
     "execution_count": 195,
     "metadata": {},
     "output_type": "execute_result"
    }
   ],
   "source": [
    "links = []\n",
    "for im in images:\n",
    "    links.append(\"https:\"+im[\"src\"])  \n",
    "links\n",
    "    \n"
   ]
  },
  {
   "cell_type": "markdown",
   "metadata": {},
   "source": [
    "#### Retrieve an arbitary Wikipedia page of \"Python\" and create a list of links on that page"
   ]
  },
  {
   "cell_type": "code",
   "execution_count": 196,
   "metadata": {},
   "outputs": [],
   "source": [
    "# This is the url you will scrape in this exercise\n",
    "url ='https://en.wikipedia.org/wiki/Python' \n",
    "data = requests.get(url)\n",
    "html = data.text\n",
    "soup = BeautifulSoup(html)"
   ]
  },
  {
   "cell_type": "code",
   "execution_count": 197,
   "metadata": {},
   "outputs": [
    {
     "data": {
      "text/plain": [
       "['https://en.wiktionary.org/wiki/Python',\n",
       " 'https://en.wiktionary.org/wiki/python',\n",
       " 'https://en.wikipedia.org/wiki/Python/w/index.php?title=Python&action=edit&section=1',\n",
       " 'https://en.wikipedia.org/wiki/Python/wiki/Pythonidae',\n",
       " 'https://en.wikipedia.org/wiki/Python/wiki/Python_(genus)',\n",
       " 'https://en.wikipedia.org/wiki/Python/w/index.php?title=Python&action=edit&section=2',\n",
       " 'https://en.wikipedia.org/wiki/Python/wiki/Python_(mythology)',\n",
       " 'https://en.wikipedia.org/wiki/Python/wiki/Python_of_Aenus',\n",
       " 'https://en.wikipedia.org/wiki/Python/wiki/Python_(painter)',\n",
       " 'https://en.wikipedia.org/wiki/Python/wiki/Python_of_Byzantium',\n",
       " 'https://en.wikipedia.org/wiki/Python/wiki/Python_of_Catana',\n",
       " 'https://en.wikipedia.org/wiki/Python/w/index.php?title=Python&action=edit&section=3',\n",
       " 'https://en.wikipedia.org/wiki/Python/wiki/Python_(film)',\n",
       " 'https://en.wikipedia.org/wiki/Python/wiki/Pythons_2',\n",
       " 'https://en.wikipedia.org/wiki/Python/wiki/Monty_Python',\n",
       " 'https://en.wikipedia.org/wiki/Python/wiki/Python_(Monty)_Pictures',\n",
       " 'https://en.wikipedia.org/wiki/Python/w/index.php?title=Python&action=edit&section=4',\n",
       " 'https://en.wikipedia.org/wiki/Python/wiki/Python_(programming_language)',\n",
       " 'https://en.wikipedia.org/wiki/Python/wiki/CPython',\n",
       " 'https://en.wikipedia.org/wiki/Python/wiki/CMU_Common_Lisp',\n",
       " 'https://en.wikipedia.org/wiki/Python/wiki/PERQ#PERQ_3',\n",
       " 'https://en.wikipedia.org/wiki/Python/w/index.php?title=Python&action=edit&section=5',\n",
       " 'https://en.wikipedia.org/wiki/Python/w/index.php?title=Python&action=edit&section=6',\n",
       " 'https://en.wikipedia.org/wiki/Python/wiki/Python_(Busch_Gardens_Tampa_Bay)',\n",
       " 'https://en.wikipedia.org/wiki/Python/wiki/Python_(Coney_Island,_Cincinnati,_Ohio)',\n",
       " 'https://en.wikipedia.org/wiki/Python/wiki/Python_(Efteling)',\n",
       " 'https://en.wikipedia.org/wiki/Python/w/index.php?title=Python&action=edit&section=7',\n",
       " 'https://en.wikipedia.org/wiki/Python/wiki/Python_(automobile_maker)',\n",
       " 'https://en.wikipedia.org/wiki/Python/wiki/Python_(Ford_prototype)',\n",
       " 'https://en.wikipedia.org/wiki/Python/w/index.php?title=Python&action=edit&section=8',\n",
       " 'https://en.wikipedia.org/wiki/Python/wiki/Colt_Python',\n",
       " 'https://en.wikipedia.org/wiki/Python/wiki/Python_(missile)',\n",
       " 'https://en.wikipedia.org/wiki/Python/wiki/Python_(nuclear_primary)',\n",
       " 'https://en.wikipedia.org/wiki/Python/w/index.php?title=Python&action=edit&section=9',\n",
       " 'https://en.wikipedia.org/wiki/Python/wiki/Python_Anghelo',\n",
       " 'https://en.wikipedia.org/wiki/Python/w/index.php?title=Python&action=edit&section=10',\n",
       " 'https://en.wikipedia.org/wiki/Python/wiki/PYTHON',\n",
       " 'https://en.wikipedia.org/wiki/Python/w/index.php?title=Python&action=edit&section=11',\n",
       " 'https://en.wikipedia.org/wiki/Python/wiki/Cython',\n",
       " 'https://en.wikipedia.org/wiki/Python/wiki/Pyton',\n",
       " 'https://en.wikipedia.org/wiki/Python/wiki/File:Disambig_gray.svg',\n",
       " 'https://en.wikipedia.org/wiki/Python/wiki/Help:Disambiguation',\n",
       " 'https://en.wikipedia.org/w/index.php?title=Special:WhatLinksHere/Python&namespace=0',\n",
       " 'https://en.wikipedia.org/w/index.php?title=Python&oldid=924004650',\n",
       " 'https://en.wikipedia.org/wiki/Python/wiki/Help:Category',\n",
       " 'https://en.wikipedia.org/wiki/Python/wiki/Category:Disambiguation_pages',\n",
       " 'https://en.wikipedia.org/wiki/Python/wiki/Category:Disambiguation_pages_with_short_description',\n",
       " 'https://en.wikipedia.org/wiki/Python/wiki/Category:All_article_disambiguation_pages',\n",
       " 'https://en.wikipedia.org/wiki/Python/wiki/Category:All_disambiguation_pages',\n",
       " 'https://en.wikipedia.org/wiki/Python/wiki/Category:Animal_common_name_disambiguation_pages',\n",
       " 'https://en.wikipedia.org/wiki/Python/wiki/Special:MyTalk',\n",
       " 'https://en.wikipedia.org/wiki/Python/wiki/Special:MyContributions',\n",
       " 'https://en.wikipedia.org/wiki/Python/w/index.php?title=Special:CreateAccount&returnto=Python',\n",
       " 'https://en.wikipedia.org/wiki/Python/w/index.php?title=Special:UserLogin&returnto=Python',\n",
       " 'https://en.wikipedia.org/wiki/Python/wiki/Python',\n",
       " 'https://en.wikipedia.org/wiki/Python/wiki/Talk:Python',\n",
       " 'https://en.wikipedia.org/wiki/Python/wiki/Python',\n",
       " 'https://en.wikipedia.org/wiki/Python/w/index.php?title=Python&action=edit',\n",
       " 'https://en.wikipedia.org/wiki/Python/w/index.php?title=Python&action=history',\n",
       " 'https://en.wikipedia.org/wiki/Python/wiki/Main_Page',\n",
       " 'https://en.wikipedia.org/wiki/Python/wiki/Main_Page',\n",
       " 'https://en.wikipedia.org/wiki/Python/wiki/Portal:Contents',\n",
       " 'https://en.wikipedia.org/wiki/Python/wiki/Portal:Featured_content',\n",
       " 'https://en.wikipedia.org/wiki/Python/wiki/Portal:Current_events',\n",
       " 'https://en.wikipedia.org/wiki/Python/wiki/Special:Random',\n",
       " 'https://donate.wikimedia.org/wiki/Special:FundraiserRedirector?utm_source=donate&utm_medium=sidebar&utm_campaign=C13_en.wikipedia.org&uselang=en',\n",
       " 'https://en.wikipedia.org/wiki/Python//shop.wikimedia.org',\n",
       " 'https://en.wikipedia.org/wiki/Python/wiki/Help:Contents',\n",
       " 'https://en.wikipedia.org/wiki/Python/wiki/Wikipedia:About',\n",
       " 'https://en.wikipedia.org/wiki/Python/wiki/Wikipedia:Community_portal',\n",
       " 'https://en.wikipedia.org/wiki/Python/wiki/Special:RecentChanges',\n",
       " 'https://en.wikipedia.org/wiki/Python//en.wikipedia.org/wiki/Wikipedia:Contact_us',\n",
       " 'https://en.wikipedia.org/wiki/Python/wiki/Special:WhatLinksHere/Python',\n",
       " 'https://en.wikipedia.org/wiki/Python/wiki/Special:RecentChangesLinked/Python',\n",
       " 'https://en.wikipedia.org/wiki/Python/wiki/Wikipedia:File_Upload_Wizard',\n",
       " 'https://en.wikipedia.org/wiki/Python/wiki/Special:SpecialPages',\n",
       " 'https://en.wikipedia.org/wiki/Python/w/index.php?title=Python&oldid=924004650',\n",
       " 'https://en.wikipedia.org/wiki/Python/w/index.php?title=Python&action=info',\n",
       " 'https://www.wikidata.org/wiki/Special:EntityPage/Q747452',\n",
       " 'https://en.wikipedia.org/wiki/Python/w/index.php?title=Special:CiteThisPage&page=Python&id=924004650',\n",
       " 'https://commons.wikimedia.org/wiki/Category:Python',\n",
       " 'https://en.wikipedia.org/wiki/Python/w/index.php?title=Special:Book&bookcmd=book_creator&referer=Python',\n",
       " 'https://en.wikipedia.org/wiki/Python/w/index.php?title=Special:ElectronPdf&page=Python&action=show-download-screen',\n",
       " 'https://en.wikipedia.org/wiki/Python/w/index.php?title=Python&printable=yes',\n",
       " 'https://af.wikipedia.org/wiki/Python',\n",
       " 'https://als.wikipedia.org/wiki/Python',\n",
       " 'https://az.wikipedia.org/wiki/Python',\n",
       " 'https://bn.wikipedia.org/wiki/%E0%A6%AA%E0%A6%BE%E0%A6%87%E0%A6%A5%E0%A6%A8_(%E0%A6%A6%E0%A7%8D%E0%A6%AC%E0%A7%8D%E0%A6%AF%E0%A6%B0%E0%A7%8D%E0%A6%A5%E0%A6%A4%E0%A6%BE_%E0%A6%A8%E0%A6%BF%E0%A6%B0%E0%A6%B8%E0%A6%A8)',\n",
       " 'https://be.wikipedia.org/wiki/Python',\n",
       " 'https://bg.wikipedia.org/wiki/%D0%9F%D0%B8%D1%82%D0%BE%D0%BD_(%D0%BF%D0%BE%D1%8F%D1%81%D0%BD%D0%B5%D0%BD%D0%B8%D0%B5)',\n",
       " 'https://cs.wikipedia.org/wiki/Python_(rozcestn%C3%ADk)',\n",
       " 'https://da.wikipedia.org/wiki/Python',\n",
       " 'https://de.wikipedia.org/wiki/Python',\n",
       " 'https://eo.wikipedia.org/wiki/Pitono_(apartigilo)',\n",
       " 'https://eu.wikipedia.org/wiki/Python_(argipena)',\n",
       " 'https://fa.wikipedia.org/wiki/%D9%BE%D8%A7%DB%8C%D8%AA%D9%88%D9%86',\n",
       " 'https://fr.wikipedia.org/wiki/Python',\n",
       " 'https://ko.wikipedia.org/wiki/%ED%8C%8C%EC%9D%B4%EC%84%A0',\n",
       " 'https://hr.wikipedia.org/wiki/Python_(razdvojba)',\n",
       " 'https://io.wikipedia.org/wiki/Pitono',\n",
       " 'https://id.wikipedia.org/wiki/Python',\n",
       " 'https://ia.wikipedia.org/wiki/Python_(disambiguation)',\n",
       " 'https://is.wikipedia.org/wiki/Python_(a%C3%B0greining)',\n",
       " 'https://it.wikipedia.org/wiki/Python_(disambigua)',\n",
       " 'https://he.wikipedia.org/wiki/%D7%A4%D7%99%D7%AA%D7%95%D7%9F',\n",
       " 'https://ka.wikipedia.org/wiki/%E1%83%9E%E1%83%98%E1%83%97%E1%83%9D%E1%83%9C%E1%83%98_(%E1%83%9B%E1%83%A0%E1%83%90%E1%83%95%E1%83%90%E1%83%9A%E1%83%9B%E1%83%9C%E1%83%98%E1%83%A8%E1%83%95%E1%83%9C%E1%83%94%E1%83%9A%E1%83%9D%E1%83%95%E1%83%90%E1%83%9C%E1%83%98)',\n",
       " 'https://kg.wikipedia.org/wiki/Mboma_(nyoka)',\n",
       " 'https://la.wikipedia.org/wiki/Python_(discretiva)',\n",
       " 'https://lb.wikipedia.org/wiki/Python',\n",
       " 'https://hu.wikipedia.org/wiki/Python_(egy%C3%A9rtelm%C5%B1s%C3%ADt%C5%91_lap)',\n",
       " 'https://mr.wikipedia.org/wiki/%E0%A4%AA%E0%A4%BE%E0%A4%AF%E0%A4%A5%E0%A5%89%E0%A4%A8_(%E0%A4%86%E0%A4%9C%E0%A5%8D%E0%A4%9E%E0%A4%BE%E0%A4%B5%E0%A4%B2%E0%A5%80_%E0%A4%AD%E0%A4%BE%E0%A4%B7%E0%A4%BE)',\n",
       " 'https://nl.wikipedia.org/wiki/Python',\n",
       " 'https://ja.wikipedia.org/wiki/%E3%83%91%E3%82%A4%E3%82%BD%E3%83%B3',\n",
       " 'https://no.wikipedia.org/wiki/Pyton',\n",
       " 'https://pl.wikipedia.org/wiki/Pyton',\n",
       " 'https://pt.wikipedia.org/wiki/Python_(desambigua%C3%A7%C3%A3o)',\n",
       " 'https://ru.wikipedia.org/wiki/Python_(%D0%B7%D0%BD%D0%B0%D1%87%D0%B5%D0%BD%D0%B8%D1%8F)',\n",
       " 'https://sd.wikipedia.org/wiki/%D8%A7%D8%B1%DA%99',\n",
       " 'https://sk.wikipedia.org/wiki/Python',\n",
       " 'https://sr.wikipedia.org/wiki/%D0%9F%D0%B8%D1%82%D0%BE%D0%BD_(%D0%B2%D0%B8%D1%88%D0%B5%D0%B7%D0%BD%D0%B0%D1%87%D0%BD%D0%B0_%D0%BE%D0%B4%D1%80%D0%B5%D0%B4%D0%BD%D0%B8%D1%86%D0%B0)',\n",
       " 'https://sh.wikipedia.org/wiki/Python',\n",
       " 'https://fi.wikipedia.org/wiki/Python',\n",
       " 'https://sv.wikipedia.org/wiki/Pyton',\n",
       " 'https://th.wikipedia.org/wiki/%E0%B9%84%E0%B8%9E%E0%B8%97%E0%B8%AD%E0%B8%99',\n",
       " 'https://tr.wikipedia.org/wiki/Python',\n",
       " 'https://uk.wikipedia.org/wiki/%D0%9F%D1%96%D1%84%D0%BE%D0%BD',\n",
       " 'https://ur.wikipedia.org/wiki/%D9%BE%D8%A7%D8%A6%DB%8C%D8%AA%DA%BE%D9%88%D9%86',\n",
       " 'https://vi.wikipedia.org/wiki/Python',\n",
       " 'https://zh.wikipedia.org/wiki/Python_(%E6%B6%88%E6%AD%A7%E4%B9%89)',\n",
       " 'https://www.wikidata.org/wiki/Special:EntityPage/Q747452#sitelinks-wikipedia',\n",
       " 'https://en.wikipedia.org/wiki/Python//en.wikipedia.org/wiki/Wikipedia:Text_of_Creative_Commons_Attribution-ShareAlike_3.0_Unported_License',\n",
       " 'https://en.wikipedia.org/wiki/Python//creativecommons.org/licenses/by-sa/3.0/',\n",
       " 'https://en.wikipedia.org/wiki/Python//foundation.wikimedia.org/wiki/Terms_of_Use',\n",
       " 'https://en.wikipedia.org/wiki/Python//foundation.wikimedia.org/wiki/Privacy_policy',\n",
       " 'https://en.wikipedia.org/wiki/Python//www.wikimediafoundation.org/',\n",
       " 'https://foundation.wikimedia.org/wiki/Privacy_policy',\n",
       " 'https://en.wikipedia.org/wiki/Python/wiki/Wikipedia:About',\n",
       " 'https://en.wikipedia.org/wiki/Python/wiki/Wikipedia:General_disclaimer',\n",
       " 'https://en.wikipedia.org/wiki/Python//en.wikipedia.org/wiki/Wikipedia:Contact_us',\n",
       " 'https://www.mediawiki.org/wiki/Special:MyLanguage/How_to_contribute',\n",
       " 'https://foundation.wikimedia.org/wiki/Cookie_statement',\n",
       " 'https://en.wikipedia.org/wiki/Python//en.m.wikipedia.org/w/index.php?title=Python&mobileaction=toggle_view_mobile',\n",
       " 'https://wikimediafoundation.org/',\n",
       " 'https://www.mediawiki.org/']"
      ]
     },
     "execution_count": 197,
     "metadata": {},
     "output_type": "execute_result"
    }
   ],
   "source": [
    "links = []\n",
    "links_final = []\n",
    "for link in soup.find_all('a', href=True):\n",
    "    links.append(link['href'])\n",
    "for l in range(len(links)):\n",
    "    if links[l][0]!=\"#\":\n",
    "        if links[l][:4]!=\"http\":\n",
    "            links_final.append(\"https://en.wikipedia.org/wiki/Python\"+links[l])\n",
    "        else:\n",
    "            links_final.append(links[l])\n",
    "links_final"
   ]
  },
  {
   "cell_type": "markdown",
   "metadata": {},
   "source": [
    "#### Number of Titles that have changed in the United States Code since its last release point "
   ]
  },
  {
   "cell_type": "code",
   "execution_count": 198,
   "metadata": {},
   "outputs": [],
   "source": [
    "# This is the url you will scrape in this exercise\n",
    "url = 'http://uscode.house.gov/download/download.shtml'"
   ]
  },
  {
   "cell_type": "code",
   "execution_count": 199,
   "metadata": {},
   "outputs": [],
   "source": [
    "data = requests.get(url)\n",
    "html = data.text\n",
    "soup = BeautifulSoup(html)"
   ]
  },
  {
   "cell_type": "code",
   "execution_count": 200,
   "metadata": {},
   "outputs": [
    {
     "data": {
      "text/plain": [
       "['Title 6 - Domestic Security', 'Title 31 - Money and Finance ٭']"
      ]
     },
     "execution_count": 200,
     "metadata": {},
     "output_type": "execute_result"
    }
   ],
   "source": [
    "titles = soup.find_all(\"div\", class_=\"usctitlechanged\")\n",
    "ts = []\n",
    "for t in titles:\n",
    "    ts.append(t.text.strip())\n",
    "ts"
   ]
  },
  {
   "cell_type": "markdown",
   "metadata": {},
   "source": [
    "#### A Python list with the top ten FBI's Most Wanted names "
   ]
  },
  {
   "cell_type": "code",
   "execution_count": 212,
   "metadata": {},
   "outputs": [],
   "source": [
    "# This is the url you will scrape in this exercise\n",
    "url = 'https://www.fbi.gov/wanted/topten'"
   ]
  },
  {
   "cell_type": "code",
   "execution_count": 213,
   "metadata": {},
   "outputs": [],
   "source": [
    "data = requests.get(url)\n",
    "html = data.content\n",
    "soup = BeautifulSoup(html)"
   ]
  },
  {
   "cell_type": "code",
   "execution_count": 214,
   "metadata": {},
   "outputs": [
    {
     "data": {
      "text/plain": [
       "[]"
      ]
     },
     "execution_count": 214,
     "metadata": {},
     "output_type": "execute_result"
    }
   ],
   "source": [
    "names = soup.find_all(\"h3\", class_=\"title\")\n",
    "FBI = []\n",
    "for n in names:\n",
    "    FBI.append(n.text.strip())\n",
    "FBI\n"
   ]
  },
  {
   "cell_type": "markdown",
   "metadata": {},
   "source": [
    "####  20 latest earthquakes info (date, time, latitude, longitude and region name) by the EMSC as a pandas dataframe"
   ]
  },
  {
   "cell_type": "code",
   "execution_count": 215,
   "metadata": {},
   "outputs": [],
   "source": [
    "# This is the url you will scrape in this exercise\n",
    "url = 'https://www.emsc-csem.org/Earthquake/'"
   ]
  },
  {
   "cell_type": "code",
   "execution_count": 217,
   "metadata": {},
   "outputs": [
    {
     "data": {
      "text/html": [
       "<div>\n",
       "<style scoped>\n",
       "    .dataframe tbody tr th:only-of-type {\n",
       "        vertical-align: middle;\n",
       "    }\n",
       "\n",
       "    .dataframe tbody tr th {\n",
       "        vertical-align: top;\n",
       "    }\n",
       "\n",
       "    .dataframe thead th {\n",
       "        text-align: right;\n",
       "    }\n",
       "</style>\n",
       "<table border=\"1\" class=\"dataframe\">\n",
       "  <thead>\n",
       "    <tr style=\"text-align: right;\">\n",
       "      <th></th>\n",
       "      <th>Date</th>\n",
       "      <th>Time</th>\n",
       "      <th>Latitude</th>\n",
       "      <th>Longitude</th>\n",
       "      <th>Region</th>\n",
       "    </tr>\n",
       "  </thead>\n",
       "  <tbody>\n",
       "    <tr>\n",
       "      <th>0</th>\n",
       "      <td>2019-11-07</td>\n",
       "      <td>22:05:36.8</td>\n",
       "      <td>37.30 N</td>\n",
       "      <td>115.24 W</td>\n",
       "      <td>NEVADA</td>\n",
       "    </tr>\n",
       "    <tr>\n",
       "      <th>1</th>\n",
       "      <td>2019-11-07</td>\n",
       "      <td>21:48:45.1</td>\n",
       "      <td>55.07 N</td>\n",
       "      <td>157.96 W</td>\n",
       "      <td>ALASKA</td>\n",
       "    </tr>\n",
       "    <tr>\n",
       "      <th>2</th>\n",
       "      <td>2019-11-07</td>\n",
       "      <td>21:30:02.0</td>\n",
       "      <td>19.90 N</td>\n",
       "      <td>71.33 W</td>\n",
       "      <td>DOMINICAN</td>\n",
       "    </tr>\n",
       "    <tr>\n",
       "      <th>3</th>\n",
       "      <td>2019-11-07</td>\n",
       "      <td>21:20:37.6</td>\n",
       "      <td>34.26 N</td>\n",
       "      <td>119.30 W</td>\n",
       "      <td>SANTA</td>\n",
       "    </tr>\n",
       "    <tr>\n",
       "      <th>4</th>\n",
       "      <td>2019-11-07</td>\n",
       "      <td>20:36:54.7</td>\n",
       "      <td>46.32 N</td>\n",
       "      <td>7.35 E</td>\n",
       "      <td>SWITZERLAND</td>\n",
       "    </tr>\n",
       "    <tr>\n",
       "      <th>5</th>\n",
       "      <td>2019-11-07</td>\n",
       "      <td>20:24:36.3</td>\n",
       "      <td>35.83 N</td>\n",
       "      <td>117.66 W</td>\n",
       "      <td>CENTRAL</td>\n",
       "    </tr>\n",
       "    <tr>\n",
       "      <th>6</th>\n",
       "      <td>2019-11-07</td>\n",
       "      <td>20:00:51.0</td>\n",
       "      <td>23.22 S</td>\n",
       "      <td>68.90 W</td>\n",
       "      <td>ANTOFAGASTA</td>\n",
       "    </tr>\n",
       "    <tr>\n",
       "      <th>7</th>\n",
       "      <td>2019-11-07</td>\n",
       "      <td>19:13:40.0</td>\n",
       "      <td>20.48 S</td>\n",
       "      <td>69.05 W</td>\n",
       "      <td>TARAPACA</td>\n",
       "    </tr>\n",
       "    <tr>\n",
       "      <th>8</th>\n",
       "      <td>2019-11-07</td>\n",
       "      <td>18:52:18.1</td>\n",
       "      <td>37.89 N</td>\n",
       "      <td>112.48 W</td>\n",
       "      <td>UTAH</td>\n",
       "    </tr>\n",
       "    <tr>\n",
       "      <th>9</th>\n",
       "      <td>2019-11-07</td>\n",
       "      <td>18:35:26.2</td>\n",
       "      <td>46.32 N</td>\n",
       "      <td>7.35 E</td>\n",
       "      <td>SWITZERLAND</td>\n",
       "    </tr>\n",
       "    <tr>\n",
       "      <th>10</th>\n",
       "      <td>2019-11-07</td>\n",
       "      <td>21:56:46.7</td>\n",
       "      <td>47.33 N</td>\n",
       "      <td>6.36 E</td>\n",
       "      <td>FRANCE</td>\n",
       "    </tr>\n",
       "    <tr>\n",
       "      <th>11</th>\n",
       "      <td>2019-11-07</td>\n",
       "      <td>21:40:07.7</td>\n",
       "      <td>41.78 N</td>\n",
       "      <td>13.60 E</td>\n",
       "      <td>SOUTHERN</td>\n",
       "    </tr>\n",
       "    <tr>\n",
       "      <th>12</th>\n",
       "      <td>2019-11-07</td>\n",
       "      <td>21:28:48.2</td>\n",
       "      <td>37.67 N</td>\n",
       "      <td>38.53 E</td>\n",
       "      <td>EASTERN</td>\n",
       "    </tr>\n",
       "    <tr>\n",
       "      <th>13</th>\n",
       "      <td>2019-11-07</td>\n",
       "      <td>21:11:36.0</td>\n",
       "      <td>4.70 N</td>\n",
       "      <td>127.57 E</td>\n",
       "      <td>KEPULAUAN</td>\n",
       "    </tr>\n",
       "    <tr>\n",
       "      <th>14</th>\n",
       "      <td>2019-11-07</td>\n",
       "      <td>20:30:05.9</td>\n",
       "      <td>46.32 N</td>\n",
       "      <td>7.35 E</td>\n",
       "      <td>III</td>\n",
       "    </tr>\n",
       "    <tr>\n",
       "      <th>15</th>\n",
       "      <td>2019-11-07</td>\n",
       "      <td>20:13:59.4</td>\n",
       "      <td>41.77 N</td>\n",
       "      <td>13.60 E</td>\n",
       "      <td>SOUTHERN</td>\n",
       "    </tr>\n",
       "    <tr>\n",
       "      <th>16</th>\n",
       "      <td>2019-11-07</td>\n",
       "      <td>19:54:14.9</td>\n",
       "      <td>35.71 N</td>\n",
       "      <td>117.56 W</td>\n",
       "      <td>III</td>\n",
       "    </tr>\n",
       "    <tr>\n",
       "      <th>17</th>\n",
       "      <td>2019-11-07</td>\n",
       "      <td>18:56:03.8</td>\n",
       "      <td>35.72 N</td>\n",
       "      <td>121.06 W</td>\n",
       "      <td>CENTRAL</td>\n",
       "    </tr>\n",
       "    <tr>\n",
       "      <th>18</th>\n",
       "      <td>2019-11-07</td>\n",
       "      <td>18:38:27.4</td>\n",
       "      <td>46.30 N</td>\n",
       "      <td>7.37 E</td>\n",
       "      <td>III</td>\n",
       "    </tr>\n",
       "    <tr>\n",
       "      <th>19</th>\n",
       "      <td>2019-11-07</td>\n",
       "      <td>18:25:00.0</td>\n",
       "      <td>16.36 S</td>\n",
       "      <td>72.82 W</td>\n",
       "      <td>NEAR</td>\n",
       "    </tr>\n",
       "  </tbody>\n",
       "</table>\n",
       "</div>"
      ],
      "text/plain": [
       "          Date        Time Latitude Longitude       Region\n",
       "0   2019-11-07  22:05:36.8  37.30 N  115.24 W       NEVADA\n",
       "1   2019-11-07  21:48:45.1  55.07 N  157.96 W       ALASKA\n",
       "2   2019-11-07  21:30:02.0  19.90 N   71.33 W    DOMINICAN\n",
       "3   2019-11-07  21:20:37.6  34.26 N  119.30 W        SANTA\n",
       "4   2019-11-07  20:36:54.7  46.32 N    7.35 E  SWITZERLAND\n",
       "5   2019-11-07  20:24:36.3  35.83 N  117.66 W      CENTRAL\n",
       "6   2019-11-07  20:00:51.0  23.22 S   68.90 W  ANTOFAGASTA\n",
       "7   2019-11-07  19:13:40.0  20.48 S   69.05 W     TARAPACA\n",
       "8   2019-11-07  18:52:18.1  37.89 N  112.48 W         UTAH\n",
       "9   2019-11-07  18:35:26.2  46.32 N    7.35 E  SWITZERLAND\n",
       "10  2019-11-07  21:56:46.7  47.33 N    6.36 E       FRANCE\n",
       "11  2019-11-07  21:40:07.7  41.78 N   13.60 E     SOUTHERN\n",
       "12  2019-11-07  21:28:48.2  37.67 N   38.53 E      EASTERN\n",
       "13  2019-11-07  21:11:36.0   4.70 N  127.57 E    KEPULAUAN\n",
       "14  2019-11-07  20:30:05.9  46.32 N    7.35 E          III\n",
       "15  2019-11-07  20:13:59.4  41.77 N   13.60 E     SOUTHERN\n",
       "16  2019-11-07  19:54:14.9  35.71 N  117.56 W          III\n",
       "17  2019-11-07  18:56:03.8  35.72 N  121.06 W      CENTRAL\n",
       "18  2019-11-07  18:38:27.4  46.30 N    7.37 E          III\n",
       "19  2019-11-07  18:25:00.0  16.36 S   72.82 W         NEAR"
      ]
     },
     "execution_count": 217,
     "metadata": {},
     "output_type": "execute_result"
    }
   ],
   "source": [
    "import re\n",
    "import unicodedata\n",
    "data = requests.get(url)\n",
    "html = data.text\n",
    "soup = BeautifulSoup(html)\n",
    "earth1 = soup.find_all('tr',class_=\"ligne1 normal\", limit=10)\n",
    "earth2 = soup.find_all('tr',class_=\"ligne2 normal\", limit=10)\n",
    "earth = earth1+earth2\n",
    "\n",
    "date = []\n",
    "time = []\n",
    "latitude = []\n",
    "longitude = []\n",
    "region = []\n",
    "for e in range(len(earth)):\n",
    "    earth[e] = earth[e].text.strip()\n",
    "    earth[e] = unicodedata.normalize(\"NFKD\", earth[e])\n",
    "    date.append(re.findall(\"\\d{4}-\\d{2}-\\d{2}\",earth[e])[0])\n",
    "    time.append(re.findall(\"\\d{2}:\\d{2}:\\d{2}\\.\\d\",earth[e])[0])\n",
    "    latitude.append(re.findall(\"\\d+\\.\\d{2}\\s[NS]\",earth[e])[0])\n",
    "    longitude.append(re.findall(\"\\d+\\.\\d{2}\\s[WE]\",earth[e])[0])\n",
    "    region.append(re.findall(\"[A-Z]{3,}\",earth[e])[0])\n",
    "    \n",
    "df = pd.DataFrame({\"Date\":date,\"Time\":time,\"Latitude\":latitude ,\"Longitude\":longitude,\"Region\": region})\n",
    "df"
   ]
  },
  {
   "cell_type": "markdown",
   "metadata": {},
   "source": [
    "#### Display the date, days, title, city, country of next 25 hackathon events as a Pandas dataframe table"
   ]
  },
  {
   "cell_type": "code",
   "execution_count": 218,
   "metadata": {},
   "outputs": [],
   "source": [
    "# This is the url you will scrape in this exercise\n",
    "url ='https://hackevents.co/hackathons'"
   ]
  },
  {
   "cell_type": "code",
   "execution_count": 219,
   "metadata": {},
   "outputs": [],
   "source": [
    "data = requests.get(url)\n",
    "html = data.text\n",
    "soup = BeautifulSoup(html)"
   ]
  },
  {
   "cell_type": "code",
   "execution_count": 220,
   "metadata": {},
   "outputs": [],
   "source": [
    "hack = soup.find_all(\"div\",class_=\"col-12 col-sm-4\")\n",
    "for h in hack:\n",
    "    x = h.text\n",
    "    date = re.findall(\"\\d{2}/\\d/\\d{4}\",x)\n",
    "    title = re.findall(\"(?i)[a-z]+\\s\\w+\",x)\n",
    "    title = \" \".join(title)\n",
    "\n",
    "#automaticamente ira al enlace de cada evento para buscar la direccion\n",
    "\n",
    "for link in soup.find_all('a', href=True):\n",
    "    if link[\"href\"][:6]==\"/event\":\n",
    "        url = \"https://hackevents.co/\" + link[\"href\"]\n",
    "        data2 = requests.get(url)\n",
    "        html2 = data.text\n",
    "        soup2 = BeautifulSoup(html)\n",
    "        \n",
    "adress = soup2.find_all(\"div\",class_=\"col-12 col-sm-5\")    \n",
    "\n",
    "#TAMPOCO APARECE LA DIRECCION EN LA PAGINA DEL EVENTO, ES IMPOSIBLE"
   ]
  },
  {
   "cell_type": "markdown",
   "metadata": {},
   "source": [
    "#### Count number of tweets by a given Twitter account."
   ]
  },
  {
   "cell_type": "markdown",
   "metadata": {},
   "source": [
    "You will need to include a ***try/except block*** for account names not found. \n",
    "<br>***Hint:*** the program should count the number of tweets for any provided account"
   ]
  },
  {
   "cell_type": "code",
   "execution_count": 221,
   "metadata": {},
   "outputs": [],
   "source": [
    "# This is the url you will scrape in this exercise \n",
    "# You will need to add the account credentials to this url\n",
    "url = 'https://twitter.com/Pontifex'\n",
    "data = requests.get(url)\n",
    "html = data.text\n",
    "soup = BeautifulSoup(html)"
   ]
  },
  {
   "cell_type": "code",
   "execution_count": null,
   "metadata": {},
   "outputs": [],
   "source": []
  },
  {
   "cell_type": "markdown",
   "metadata": {},
   "source": [
    "#### Number of followers of a given twitter account"
   ]
  },
  {
   "cell_type": "markdown",
   "metadata": {},
   "source": [
    "You will need to include a ***try/except block*** in case account/s name not found. \n",
    "<br>***Hint:*** the program should count the followers for any provided account"
   ]
  },
  {
   "cell_type": "code",
   "execution_count": 223,
   "metadata": {},
   "outputs": [],
   "source": [
    "#your code\n"
   ]
  },
  {
   "cell_type": "markdown",
   "metadata": {},
   "source": [
    "#### List all language names and number of related articles in the order they appear in wikipedia.org"
   ]
  },
  {
   "cell_type": "code",
   "execution_count": 224,
   "metadata": {},
   "outputs": [],
   "source": [
    "# This is the url you will scrape in this exercise\n",
    "url = 'https://www.wikipedia.org/'\n",
    "data = requests.get(url)\n",
    "html = data.content\n",
    "soup = BeautifulSoup(html)"
   ]
  },
  {
   "cell_type": "code",
   "execution_count": 225,
   "metadata": {},
   "outputs": [
    {
     "data": {
      "text/html": [
       "<div>\n",
       "<style scoped>\n",
       "    .dataframe tbody tr th:only-of-type {\n",
       "        vertical-align: middle;\n",
       "    }\n",
       "\n",
       "    .dataframe tbody tr th {\n",
       "        vertical-align: top;\n",
       "    }\n",
       "\n",
       "    .dataframe thead th {\n",
       "        text-align: right;\n",
       "    }\n",
       "</style>\n",
       "<table border=\"1\" class=\"dataframe\">\n",
       "  <thead>\n",
       "    <tr style=\"text-align: right;\">\n",
       "      <th></th>\n",
       "      <th>Languages</th>\n",
       "      <th>Articles</th>\n",
       "    </tr>\n",
       "  </thead>\n",
       "  <tbody>\n",
       "    <tr>\n",
       "      <th>0</th>\n",
       "      <td>English</td>\n",
       "      <td>5 964 000</td>\n",
       "    </tr>\n",
       "    <tr>\n",
       "      <th>1</th>\n",
       "      <td>Español</td>\n",
       "      <td>1 554 000</td>\n",
       "    </tr>\n",
       "    <tr>\n",
       "      <th>2</th>\n",
       "      <td>Nihongo</td>\n",
       "      <td>1 175 000</td>\n",
       "    </tr>\n",
       "    <tr>\n",
       "      <th>3</th>\n",
       "      <td>Deutsch</td>\n",
       "      <td>2 361 000</td>\n",
       "    </tr>\n",
       "    <tr>\n",
       "      <th>4</th>\n",
       "      <td>Russkiy</td>\n",
       "      <td>1 576 000</td>\n",
       "    </tr>\n",
       "    <tr>\n",
       "      <th>5</th>\n",
       "      <td>Français</td>\n",
       "      <td>2 152 000</td>\n",
       "    </tr>\n",
       "    <tr>\n",
       "      <th>6</th>\n",
       "      <td>Italiano</td>\n",
       "      <td>1 562 000</td>\n",
       "    </tr>\n",
       "    <tr>\n",
       "      <th>7</th>\n",
       "      <td>Zhōngwén</td>\n",
       "      <td>1 080 000</td>\n",
       "    </tr>\n",
       "    <tr>\n",
       "      <th>8</th>\n",
       "      <td>Português</td>\n",
       "      <td>1 014 000</td>\n",
       "    </tr>\n",
       "    <tr>\n",
       "      <th>9</th>\n",
       "      <td>Polski</td>\n",
       "      <td>1 367 000</td>\n",
       "    </tr>\n",
       "  </tbody>\n",
       "</table>\n",
       "</div>"
      ],
      "text/plain": [
       "   Languages   Articles\n",
       "0    English  5 964 000\n",
       "1    Español  1 554 000\n",
       "2    Nihongo  1 175 000\n",
       "3    Deutsch  2 361 000\n",
       "4    Russkiy  1 576 000\n",
       "5   Français  2 152 000\n",
       "6   Italiano  1 562 000\n",
       "7   Zhōngwén  1 080 000\n",
       "8  Português  1 014 000\n",
       "9     Polski  1 367 000"
      ]
     },
     "execution_count": 225,
     "metadata": {},
     "output_type": "execute_result"
    }
   ],
   "source": [
    "x = soup.find_all(\"div\",class_=\"central-featured\")[0](\"bdi\")\n",
    "langs=[]\n",
    "art=[]\n",
    "for i in range(10):\n",
    "    langs.append(soup(\"a\")[i][\"title\"].split()[0])\n",
    "    art.append(x[i].text[0:-1])\n",
    "\n",
    "df = pd.DataFrame({\"Languages\": langs,\"Articles\": art})\n",
    "df"
   ]
  },
  {
   "cell_type": "markdown",
   "metadata": {},
   "source": [
    "#### A list with the different kind of datasets available in data.gov.uk "
   ]
  },
  {
   "cell_type": "code",
   "execution_count": 226,
   "metadata": {},
   "outputs": [],
   "source": [
    "# This is the url you will scrape in this exercise\n",
    "url = 'https://data.gov.uk/'\n",
    "data = requests.get(url)\n",
    "html = data.content\n",
    "soup = BeautifulSoup(html)"
   ]
  },
  {
   "cell_type": "code",
   "execution_count": 227,
   "metadata": {},
   "outputs": [
    {
     "data": {
      "text/plain": [
       "['Business and economy',\n",
       " 'Crime and justice',\n",
       " 'Defence',\n",
       " 'Education',\n",
       " 'Environment',\n",
       " 'Government',\n",
       " 'Government spending',\n",
       " 'Health',\n",
       " 'Mapping',\n",
       " 'Society',\n",
       " 'Towns and cities',\n",
       " 'Transport']"
      ]
     },
     "execution_count": 227,
     "metadata": {},
     "output_type": "execute_result"
    }
   ],
   "source": [
    "x = soup.find_all(\"h2\")\n",
    "datasets = [j.text for j in x]\n",
    "datasets\n"
   ]
  },
  {
   "cell_type": "markdown",
   "metadata": {},
   "source": [
    "#### Top 10 languages by number of native speakers stored in a Pandas Dataframe"
   ]
  },
  {
   "cell_type": "code",
   "execution_count": 228,
   "metadata": {},
   "outputs": [],
   "source": [
    "# This is the url you will scrape in this exercise\n",
    "url = 'https://en.wikipedia.org/wiki/List_of_languages_by_number_of_native_speakers'\n",
    "data = requests.get(url)\n",
    "html = data.content\n",
    "soup = BeautifulSoup(html)"
   ]
  },
  {
   "cell_type": "code",
   "execution_count": 229,
   "metadata": {},
   "outputs": [
    {
     "name": "stdout",
     "output_type": "stream",
     "text": [
      "Mandarin (entire branch)\n",
      "Spanish\n",
      "English\n",
      "Hindi[b]\n",
      "Arabic\n",
      "Portuguese\n",
      "Bengali\n",
      "Russian\n",
      "Japanese\n",
      "Punjabi\n"
     ]
    }
   ],
   "source": [
    "grouped = []\n",
    "for x in soup.find_all(\"table\")[2](\"td\"):\n",
    "    grouped.append(x.text)\n",
    "for g in range(1,40,4):\n",
    "    print(grouped[g])\n"
   ]
  },
  {
   "cell_type": "markdown",
   "metadata": {},
   "source": [
    "### BONUS QUESTIONS"
   ]
  },
  {
   "cell_type": "markdown",
   "metadata": {},
   "source": [
    "#### Scrape a certain number of tweets of a given Twitter account."
   ]
  },
  {
   "cell_type": "code",
   "execution_count": 230,
   "metadata": {},
   "outputs": [],
   "source": [
    "# This is the url you will scrape in this exercise \n",
    "# You will need to add the account credentials to this url\n",
    "url = 'https://twitter.com/'"
   ]
  },
  {
   "cell_type": "code",
   "execution_count": 231,
   "metadata": {},
   "outputs": [],
   "source": [
    "# your code"
   ]
  },
  {
   "cell_type": "markdown",
   "metadata": {},
   "source": [
    "#### IMDB's Top 250 data (movie name, Initial release, director name and stars) as a pandas dataframe"
   ]
  },
  {
   "cell_type": "code",
   "execution_count": 232,
   "metadata": {},
   "outputs": [],
   "source": [
    "# This is the url you will scrape in this exercise \n",
    "url = 'https://www.imdb.com/chart/top'\n",
    "data = requests.get(url)\n",
    "html = data.content\n",
    "soup = BeautifulSoup(html)"
   ]
  },
  {
   "cell_type": "code",
   "execution_count": 233,
   "metadata": {},
   "outputs": [
    {
     "data": {
      "text/html": [
       "<div>\n",
       "<style scoped>\n",
       "    .dataframe tbody tr th:only-of-type {\n",
       "        vertical-align: middle;\n",
       "    }\n",
       "\n",
       "    .dataframe tbody tr th {\n",
       "        vertical-align: top;\n",
       "    }\n",
       "\n",
       "    .dataframe thead th {\n",
       "        text-align: right;\n",
       "    }\n",
       "</style>\n",
       "<table border=\"1\" class=\"dataframe\">\n",
       "  <thead>\n",
       "    <tr style=\"text-align: right;\">\n",
       "      <th></th>\n",
       "      <th>Name</th>\n",
       "      <th>Release</th>\n",
       "      <th>Director</th>\n",
       "      <th>Stars</th>\n",
       "    </tr>\n",
       "  </thead>\n",
       "  <tbody>\n",
       "    <tr>\n",
       "      <th>0</th>\n",
       "      <td>1 Cadena perpetua 1994</td>\n",
       "      <td>1994</td>\n",
       "      <td>Frank Darabont</td>\n",
       "      <td>9.2</td>\n",
       "    </tr>\n",
       "    <tr>\n",
       "      <th>1</th>\n",
       "      <td>2 El padrino 1972</td>\n",
       "      <td>1972</td>\n",
       "      <td>Francis Ford Coppola</td>\n",
       "      <td>9.1</td>\n",
       "    </tr>\n",
       "    <tr>\n",
       "      <th>2</th>\n",
       "      <td>3 El padrino Parte II 1974</td>\n",
       "      <td>1974</td>\n",
       "      <td>Francis Ford Coppola</td>\n",
       "      <td>9.0</td>\n",
       "    </tr>\n",
       "    <tr>\n",
       "      <th>3</th>\n",
       "      <td>4 El caballero oscuro 2008</td>\n",
       "      <td>2008</td>\n",
       "      <td>Christopher Nolan</td>\n",
       "      <td>9.0</td>\n",
       "    </tr>\n",
       "    <tr>\n",
       "      <th>4</th>\n",
       "      <td>5 12 hombres sin piedad 1957</td>\n",
       "      <td>1957</td>\n",
       "      <td>Sidney Lumet</td>\n",
       "      <td>8.9</td>\n",
       "    </tr>\n",
       "    <tr>\n",
       "      <th>...</th>\n",
       "      <td>...</td>\n",
       "      <td>...</td>\n",
       "      <td>...</td>\n",
       "      <td>...</td>\n",
       "    </tr>\n",
       "    <tr>\n",
       "      <th>245</th>\n",
       "      <td>246 Juego sucio 2002</td>\n",
       "      <td>2002</td>\n",
       "      <td>Andrew Lau</td>\n",
       "      <td>8.0</td>\n",
       "    </tr>\n",
       "    <tr>\n",
       "      <th>246</th>\n",
       "      <td>247 La batalla de Argel 1966</td>\n",
       "      <td>1966</td>\n",
       "      <td>Gillo Pontecorvo</td>\n",
       "      <td>8.0</td>\n",
       "    </tr>\n",
       "    <tr>\n",
       "      <th>247</th>\n",
       "      <td>248 La leyenda del pianista en el océano 1998</td>\n",
       "      <td>1998</td>\n",
       "      <td>Giuseppe Tornatore</td>\n",
       "      <td>8.0</td>\n",
       "    </tr>\n",
       "    <tr>\n",
       "      <th>248</th>\n",
       "      <td>249 El castillo en el cielo 1986</td>\n",
       "      <td>1986</td>\n",
       "      <td>Hayao Miyazaki</td>\n",
       "      <td>8.0</td>\n",
       "    </tr>\n",
       "    <tr>\n",
       "      <th>249</th>\n",
       "      <td>250 Hera Pheri 2000</td>\n",
       "      <td>2000</td>\n",
       "      <td>Priyadarshan</td>\n",
       "      <td>8.0</td>\n",
       "    </tr>\n",
       "  </tbody>\n",
       "</table>\n",
       "<p>250 rows × 4 columns</p>\n",
       "</div>"
      ],
      "text/plain": [
       "                                              Name Release  \\\n",
       "0                           1 Cadena perpetua 1994    1994   \n",
       "1                                2 El padrino 1972    1972   \n",
       "2                       3 El padrino Parte II 1974    1974   \n",
       "3                       4 El caballero oscuro 2008    2008   \n",
       "4                     5 12 hombres sin piedad 1957    1957   \n",
       "..                                             ...     ...   \n",
       "245                           246 Juego sucio 2002    2002   \n",
       "246                   247 La batalla de Argel 1966    1966   \n",
       "247  248 La leyenda del pianista en el océano 1998    1998   \n",
       "248               249 El castillo en el cielo 1986    1986   \n",
       "249                            250 Hera Pheri 2000    2000   \n",
       "\n",
       "                  Director Stars  \n",
       "0          Frank Darabont    9.2  \n",
       "1    Francis Ford Coppola    9.1  \n",
       "2    Francis Ford Coppola    9.0  \n",
       "3       Christopher Nolan    9.0  \n",
       "4            Sidney Lumet    8.9  \n",
       "..                     ...   ...  \n",
       "245            Andrew Lau    8.0  \n",
       "246      Gillo Pontecorvo    8.0  \n",
       "247    Giuseppe Tornatore    8.0  \n",
       "248        Hayao Miyazaki    8.0  \n",
       "249          Priyadarshan    8.0  \n",
       "\n",
       "[250 rows x 4 columns]"
      ]
     },
     "execution_count": 233,
     "metadata": {},
     "output_type": "execute_result"
    }
   ],
   "source": [
    "names = soup.find_all(\"td\",class_=\"titleColumn\")\n",
    "star = soup.find_all(\"td\",class_=\"ratingColumn imdbRating\")\n",
    "name = []\n",
    "year = []\n",
    "stars = []\n",
    "directors = []\n",
    "for n in range(len(names)):\n",
    "    name.append(\" \".join(re.findall(\"(?i)[\\w]+\",names[n].text)))\n",
    "    year.append(re.findall(\"(\\d{4})\",names[n].text)[0])\n",
    "    stars.append(star[n].text.strip())\n",
    "    directors.append(names[n](\"a\")[0][\"title\"].split(\"(dir.)\")[0])\n",
    "\n",
    "    \n",
    "df=pd.DataFrame({\"Name\": name, \"Release\": year, \"Director\": directors, \"Stars\":stars})\n",
    "df\n"
   ]
  },
  {
   "cell_type": "markdown",
   "metadata": {},
   "source": [
    "#### Movie name, year and a brief summary of the top 10 random movies (IMDB) as a pandas dataframe."
   ]
  },
  {
   "cell_type": "code",
   "execution_count": 234,
   "metadata": {},
   "outputs": [],
   "source": [
    "#This is the url you will scrape in this exercise\n",
    "url = 'http://www.imdb.com/chart/top'"
   ]
  },
  {
   "cell_type": "code",
   "execution_count": null,
   "metadata": {},
   "outputs": [],
   "source": [
    "#your code"
   ]
  },
  {
   "cell_type": "markdown",
   "metadata": {},
   "source": [
    "#### Find the live weather report (temperature, wind speed, description and weather) of a given city."
   ]
  },
  {
   "cell_type": "code",
   "execution_count": 236,
   "metadata": {},
   "outputs": [
    {
     "name": "stdout",
     "output_type": "stream",
     "text": [
      "Enter the city:madrid\n"
     ]
    }
   ],
   "source": [
    "#https://openweathermap.org/current\n",
    "city = city=input('Enter the city:')\n",
    "url = 'http://api.openweathermap.org/data/2.5/weather?'+'q='+city+'&APPID=b35975e18dc93725acb092f7272cc6b8&units=metric'\n",
    "data = requests.get(url)\n",
    "html = data.json()"
   ]
  },
  {
   "cell_type": "code",
   "execution_count": 237,
   "metadata": {},
   "outputs": [
    {
     "data": {
      "text/html": [
       "<div>\n",
       "<style scoped>\n",
       "    .dataframe tbody tr th:only-of-type {\n",
       "        vertical-align: middle;\n",
       "    }\n",
       "\n",
       "    .dataframe tbody tr th {\n",
       "        vertical-align: top;\n",
       "    }\n",
       "\n",
       "    .dataframe thead th {\n",
       "        text-align: right;\n",
       "    }\n",
       "</style>\n",
       "<table border=\"1\" class=\"dataframe\">\n",
       "  <thead>\n",
       "    <tr style=\"text-align: right;\">\n",
       "      <th></th>\n",
       "      <th>Weather</th>\n",
       "      <th>Description</th>\n",
       "      <th>Min temp</th>\n",
       "      <th>Max temp</th>\n",
       "      <th>Av temp</th>\n",
       "      <th>Wind speed</th>\n",
       "    </tr>\n",
       "  </thead>\n",
       "  <tbody>\n",
       "    <tr>\n",
       "      <th>0</th>\n",
       "      <td>Clouds</td>\n",
       "      <td>few clouds</td>\n",
       "      <td>8.33</td>\n",
       "      <td>3.33</td>\n",
       "      <td>5.91</td>\n",
       "      <td>5.1</td>\n",
       "    </tr>\n",
       "  </tbody>\n",
       "</table>\n",
       "</div>"
      ],
      "text/plain": [
       "  Weather Description  Min temp  Max temp  Av temp  Wind speed\n",
       "0  Clouds  few clouds      8.33      3.33     5.91         5.1"
      ]
     },
     "execution_count": 237,
     "metadata": {},
     "output_type": "execute_result"
    }
   ],
   "source": [
    "weather = html[\"weather\"][0][\"main\"]\n",
    "description = html[\"weather\"][0][\"description\"]\n",
    "speed = html[\"wind\"][\"speed\"]\n",
    "temperatures = []\n",
    "temperatures.append(html[\"main\"][\"temp_max\"])\n",
    "temperatures.append(html[\"main\"][\"temp_min\"])\n",
    "temperatures.append(html[\"main\"][\"temp\"])\n",
    "\n",
    "\n",
    "df = pd.DataFrame({\"Weather\": weather, \"Description\":description,\"Min temp\": temperatures[0], \"Max temp\":temperatures[1],\"Av temp\": temperatures[2], \"Wind speed\":speed}, index=[0])\n",
    "df"
   ]
  },
  {
   "cell_type": "markdown",
   "metadata": {},
   "source": [
    "#### Book name,price and stock availability as a pandas dataframe."
   ]
  },
  {
   "cell_type": "code",
   "execution_count": 182,
   "metadata": {},
   "outputs": [
    {
     "data": {
      "text/html": [
       "<div>\n",
       "<style scoped>\n",
       "    .dataframe tbody tr th:only-of-type {\n",
       "        vertical-align: middle;\n",
       "    }\n",
       "\n",
       "    .dataframe tbody tr th {\n",
       "        vertical-align: top;\n",
       "    }\n",
       "\n",
       "    .dataframe thead th {\n",
       "        text-align: right;\n",
       "    }\n",
       "</style>\n",
       "<table border=\"1\" class=\"dataframe\">\n",
       "  <thead>\n",
       "    <tr style=\"text-align: right;\">\n",
       "      <th></th>\n",
       "      <th>Name</th>\n",
       "      <th>Price</th>\n",
       "      <th>Stock</th>\n",
       "    </tr>\n",
       "  </thead>\n",
       "  <tbody>\n",
       "    <tr>\n",
       "      <th>0</th>\n",
       "      <td>A Light in the ...</td>\n",
       "      <td>Â£51.77</td>\n",
       "      <td>In stock</td>\n",
       "    </tr>\n",
       "    <tr>\n",
       "      <th>1</th>\n",
       "      <td>Tipping the Velvet</td>\n",
       "      <td>Â£53.74</td>\n",
       "      <td>In stock</td>\n",
       "    </tr>\n",
       "    <tr>\n",
       "      <th>2</th>\n",
       "      <td>Soumission</td>\n",
       "      <td>Â£50.10</td>\n",
       "      <td>In stock</td>\n",
       "    </tr>\n",
       "    <tr>\n",
       "      <th>3</th>\n",
       "      <td>Sharp Objects</td>\n",
       "      <td>Â£47.82</td>\n",
       "      <td>In stock</td>\n",
       "    </tr>\n",
       "    <tr>\n",
       "      <th>4</th>\n",
       "      <td>Sapiens: A Brief History ...</td>\n",
       "      <td>Â£54.23</td>\n",
       "      <td>In stock</td>\n",
       "    </tr>\n",
       "    <tr>\n",
       "      <th>5</th>\n",
       "      <td>The Requiem Red</td>\n",
       "      <td>Â£22.65</td>\n",
       "      <td>In stock</td>\n",
       "    </tr>\n",
       "    <tr>\n",
       "      <th>6</th>\n",
       "      <td>The Dirty Little Secrets ...</td>\n",
       "      <td>Â£33.34</td>\n",
       "      <td>In stock</td>\n",
       "    </tr>\n",
       "    <tr>\n",
       "      <th>7</th>\n",
       "      <td>The Coming Woman: A ...</td>\n",
       "      <td>Â£17.93</td>\n",
       "      <td>In stock</td>\n",
       "    </tr>\n",
       "    <tr>\n",
       "      <th>8</th>\n",
       "      <td>The Boys in the ...</td>\n",
       "      <td>Â£22.60</td>\n",
       "      <td>In stock</td>\n",
       "    </tr>\n",
       "    <tr>\n",
       "      <th>9</th>\n",
       "      <td>The Black Maria</td>\n",
       "      <td>Â£52.15</td>\n",
       "      <td>In stock</td>\n",
       "    </tr>\n",
       "    <tr>\n",
       "      <th>10</th>\n",
       "      <td>Starving Hearts (Triangular Trade ...</td>\n",
       "      <td>Â£13.99</td>\n",
       "      <td>In stock</td>\n",
       "    </tr>\n",
       "    <tr>\n",
       "      <th>11</th>\n",
       "      <td>Shakespeare's Sonnets</td>\n",
       "      <td>Â£20.66</td>\n",
       "      <td>In stock</td>\n",
       "    </tr>\n",
       "    <tr>\n",
       "      <th>12</th>\n",
       "      <td>Set Me Free</td>\n",
       "      <td>Â£17.46</td>\n",
       "      <td>In stock</td>\n",
       "    </tr>\n",
       "    <tr>\n",
       "      <th>13</th>\n",
       "      <td>Scott Pilgrim's Precious Little ...</td>\n",
       "      <td>Â£52.29</td>\n",
       "      <td>In stock</td>\n",
       "    </tr>\n",
       "    <tr>\n",
       "      <th>14</th>\n",
       "      <td>Rip it Up and ...</td>\n",
       "      <td>Â£35.02</td>\n",
       "      <td>In stock</td>\n",
       "    </tr>\n",
       "    <tr>\n",
       "      <th>15</th>\n",
       "      <td>Our Band Could Be ...</td>\n",
       "      <td>Â£57.25</td>\n",
       "      <td>In stock</td>\n",
       "    </tr>\n",
       "    <tr>\n",
       "      <th>16</th>\n",
       "      <td>Olio</td>\n",
       "      <td>Â£23.88</td>\n",
       "      <td>In stock</td>\n",
       "    </tr>\n",
       "    <tr>\n",
       "      <th>17</th>\n",
       "      <td>Mesaerion: The Best Science ...</td>\n",
       "      <td>Â£37.59</td>\n",
       "      <td>In stock</td>\n",
       "    </tr>\n",
       "    <tr>\n",
       "      <th>18</th>\n",
       "      <td>Libertarianism for Beginners</td>\n",
       "      <td>Â£51.33</td>\n",
       "      <td>In stock</td>\n",
       "    </tr>\n",
       "    <tr>\n",
       "      <th>19</th>\n",
       "      <td>It's Only the Himalayas</td>\n",
       "      <td>Â£45.17</td>\n",
       "      <td>In stock</td>\n",
       "    </tr>\n",
       "  </tbody>\n",
       "</table>\n",
       "</div>"
      ],
      "text/plain": [
       "                                     Name    Price     Stock\n",
       "0                      A Light in the ...  Â£51.77  In stock\n",
       "1                      Tipping the Velvet  Â£53.74  In stock\n",
       "2                              Soumission  Â£50.10  In stock\n",
       "3                           Sharp Objects  Â£47.82  In stock\n",
       "4            Sapiens: A Brief History ...  Â£54.23  In stock\n",
       "5                         The Requiem Red  Â£22.65  In stock\n",
       "6            The Dirty Little Secrets ...  Â£33.34  In stock\n",
       "7                 The Coming Woman: A ...  Â£17.93  In stock\n",
       "8                     The Boys in the ...  Â£22.60  In stock\n",
       "9                         The Black Maria  Â£52.15  In stock\n",
       "10  Starving Hearts (Triangular Trade ...  Â£13.99  In stock\n",
       "11                  Shakespeare's Sonnets  Â£20.66  In stock\n",
       "12                            Set Me Free  Â£17.46  In stock\n",
       "13    Scott Pilgrim's Precious Little ...  Â£52.29  In stock\n",
       "14                      Rip it Up and ...  Â£35.02  In stock\n",
       "15                  Our Band Could Be ...  Â£57.25  In stock\n",
       "16                                   Olio  Â£23.88  In stock\n",
       "17        Mesaerion: The Best Science ...  Â£37.59  In stock\n",
       "18           Libertarianism for Beginners  Â£51.33  In stock\n",
       "19                It's Only the Himalayas  Â£45.17  In stock"
      ]
     },
     "execution_count": 182,
     "metadata": {},
     "output_type": "execute_result"
    }
   ],
   "source": [
    "# This is the url you will scrape in this exercise. \n",
    "# It is a fictional bookstore created to be scraped. \n",
    "url = 'http://books.toscrape.com/'\n",
    "data = requests.get(url)\n",
    "html = data.text\n",
    "soup = BeautifulSoup(html)\n",
    "\n",
    "books = soup.find_all(\"ol\", class_=\"row\")\n",
    "for i in books:\n",
    "    price = i.find_all(\"p\",class_=\"price_color\")\n",
    "    price = [p.text for p in price]\n",
    "    availability = i.find_all(\"p\",class_=\"instock availability\")\n",
    "    availability = [a.text.strip() for a in availability]\n",
    "    name = i.find_all(\"a\")\n",
    "    name = [name[n].text.strip() for n in range(1,len(name),2)]\n",
    "\n",
    "df = pd.DataFrame({\"Name\":name, \"Price\":price, \"Stock\": availability})\n",
    "df"
   ]
  },
  {
   "cell_type": "code",
   "execution_count": null,
   "metadata": {},
   "outputs": [],
   "source": []
  }
 ],
 "metadata": {
  "kernelspec": {
   "display_name": "Python 3",
   "language": "python",
   "name": "python3"
  },
  "language_info": {
   "codemirror_mode": {
    "name": "ipython",
    "version": 3
   },
   "file_extension": ".py",
   "mimetype": "text/x-python",
   "name": "python",
   "nbconvert_exporter": "python",
   "pygments_lexer": "ipython3",
   "version": "3.7.4"
  }
 },
 "nbformat": 4,
 "nbformat_minor": 2
}
