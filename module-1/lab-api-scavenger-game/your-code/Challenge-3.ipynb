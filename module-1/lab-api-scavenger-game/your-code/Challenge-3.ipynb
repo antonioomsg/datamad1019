{
 "cells": [
  {
   "cell_type": "code",
   "execution_count": 1,
   "metadata": {},
   "outputs": [],
   "source": [
    "import os\n",
    "import json\n",
    "import requests\n",
    "import re\n",
    "from dotenv import load_dotenv\n",
    "load_dotenv()\n",
    "def githubRequestAuthorized(resource):\n",
    "    authToken = os.getenv(\"token\")\n",
    "    if not authToken:\n",
    "        raise ValueError(\"NECESITAS UN TOKEN\")\n",
    "    else:\n",
    "        print(\"We have a github token: \", authToken[0:4])\n",
    "    headers = {\n",
    "        \"Authorization\": \"token {}\".format(authToken)\n",
    "    }\n",
    "    url = \"https://api.github.com{}\".format(resource)\n",
    "    print(\"Requesting authorized {}\".format(url))\n",
    "    res = requests.get(url, headers=headers)\n",
    "    return res\n"
   ]
  },
  {
   "cell_type": "code",
   "execution_count": 2,
   "metadata": {},
   "outputs": [
    {
     "name": "stdout",
     "output_type": "stream",
     "text": [
      "We have a github token:  04a6\n",
      "Requesting authorized https://api.github.com/repos/ironhack-datalabs/scavenger/contents\n"
     ]
    }
   ],
   "source": [
    "scav = githubRequestAuthorized(\"/repos/ironhack-datalabs/scavenger/contents\").json()"
   ]
  },
  {
   "cell_type": "code",
   "execution_count": 3,
   "metadata": {},
   "outputs": [
    {
     "name": "stdout",
     "output_type": "stream",
     "text": [
      "We have a github token:  04a6\n",
      "Requesting authorized https://api.github.com/repos/ironhack-datalabs/scavenger/contents/15024\n",
      "We have a github token:  04a6\n",
      "Requesting authorized https://api.github.com/repos/ironhack-datalabs/scavenger/contents/15534\n",
      "We have a github token:  04a6\n",
      "Requesting authorized https://api.github.com/repos/ironhack-datalabs/scavenger/contents/17020\n",
      "We have a github token:  04a6\n",
      "Requesting authorized https://api.github.com/repos/ironhack-datalabs/scavenger/contents/30351\n",
      "We have a github token:  04a6\n",
      "Requesting authorized https://api.github.com/repos/ironhack-datalabs/scavenger/contents/40303\n",
      "We have a github token:  04a6\n",
      "Requesting authorized https://api.github.com/repos/ironhack-datalabs/scavenger/contents/44639\n",
      "We have a github token:  04a6\n",
      "Requesting authorized https://api.github.com/repos/ironhack-datalabs/scavenger/contents/45525\n",
      "We have a github token:  04a6\n",
      "Requesting authorized https://api.github.com/repos/ironhack-datalabs/scavenger/contents/47222\n",
      "We have a github token:  04a6\n",
      "Requesting authorized https://api.github.com/repos/ironhack-datalabs/scavenger/contents/47830\n",
      "We have a github token:  04a6\n",
      "Requesting authorized https://api.github.com/repos/ironhack-datalabs/scavenger/contents/49418\n",
      "We have a github token:  04a6\n",
      "Requesting authorized https://api.github.com/repos/ironhack-datalabs/scavenger/contents/50896\n",
      "We have a github token:  04a6\n",
      "Requesting authorized https://api.github.com/repos/ironhack-datalabs/scavenger/contents/55417\n",
      "We have a github token:  04a6\n",
      "Requesting authorized https://api.github.com/repos/ironhack-datalabs/scavenger/contents/55685\n",
      "We have a github token:  04a6\n",
      "Requesting authorized https://api.github.com/repos/ironhack-datalabs/scavenger/contents/60224\n",
      "We have a github token:  04a6\n",
      "Requesting authorized https://api.github.com/repos/ironhack-datalabs/scavenger/contents/64880\n",
      "We have a github token:  04a6\n",
      "Requesting authorized https://api.github.com/repos/ironhack-datalabs/scavenger/contents/66032\n",
      "We have a github token:  04a6\n",
      "Requesting authorized https://api.github.com/repos/ironhack-datalabs/scavenger/contents/68848\n",
      "We have a github token:  04a6\n",
      "Requesting authorized https://api.github.com/repos/ironhack-datalabs/scavenger/contents/70751\n",
      "We have a github token:  04a6\n",
      "Requesting authorized https://api.github.com/repos/ironhack-datalabs/scavenger/contents/70985\n",
      "We have a github token:  04a6\n",
      "Requesting authorized https://api.github.com/repos/ironhack-datalabs/scavenger/contents/88596\n",
      "We have a github token:  04a6\n",
      "Requesting authorized https://api.github.com/repos/ironhack-datalabs/scavenger/contents/89046\n",
      "We have a github token:  04a6\n",
      "Requesting authorized https://api.github.com/repos/ironhack-datalabs/scavenger/contents/89338\n",
      "We have a github token:  04a6\n",
      "Requesting authorized https://api.github.com/repos/ironhack-datalabs/scavenger/contents/91701\n",
      "We have a github token:  04a6\n",
      "Requesting authorized https://api.github.com/repos/ironhack-datalabs/scavenger/contents/97881\n",
      "We have a github token:  04a6\n",
      "Requesting authorized https://api.github.com/repos/ironhack-datalabs/scavenger/contents/98750\n"
     ]
    }
   ],
   "source": [
    "folders = [scav[x][\"name\"] for x in range(len(scav)) if scav[x][\"name\"]!=\".gitignore\"]\n",
    "paths = [githubRequestAuthorized(\"/repos/ironhack-datalabs/scavenger/contents/\"+y).json() for y in folders]"
   ]
  },
  {
   "cell_type": "code",
   "execution_count": 4,
   "metadata": {},
   "outputs": [
    {
     "name": "stdout",
     "output_type": "stream",
     "text": [
      "We have a github token:  04a6\n",
      "Requesting authorized https://api.github.com/repos/ironhack-datalabs/scavenger/contents15024/.0006.scavengerhunt\n",
      "We have a github token:  04a6\n",
      "Requesting authorized https://api.github.com/repos/ironhack-datalabs/scavenger/contents15534/.0008.scavengerhunt\n",
      "We have a github token:  04a6\n",
      "Requesting authorized https://api.github.com/repos/ironhack-datalabs/scavenger/contents17020/.0007.scavengerhunt\n",
      "We have a github token:  04a6\n",
      "Requesting authorized https://api.github.com/repos/ironhack-datalabs/scavenger/contents30351/.0021.scavengerhunt\n",
      "We have a github token:  04a6\n",
      "Requesting authorized https://api.github.com/repos/ironhack-datalabs/scavenger/contents40303/.0022.scavengerhunt\n",
      "We have a github token:  04a6\n",
      "Requesting authorized https://api.github.com/repos/ironhack-datalabs/scavenger/contents44639/.0005.scavengerhunt\n",
      "We have a github token:  04a6\n",
      "Requesting authorized https://api.github.com/repos/ironhack-datalabs/scavenger/contents45525/.0018.scavengerhunt\n",
      "We have a github token:  04a6\n",
      "Requesting authorized https://api.github.com/repos/ironhack-datalabs/scavenger/contents47222/.0016.scavengerhunt\n",
      "We have a github token:  04a6\n",
      "Requesting authorized https://api.github.com/repos/ironhack-datalabs/scavenger/contents47830/.0010.scavengerhunt\n",
      "We have a github token:  04a6\n",
      "Requesting authorized https://api.github.com/repos/ironhack-datalabs/scavenger/contents49418/.0014.scavengerhunt\n",
      "We have a github token:  04a6\n",
      "Requesting authorized https://api.github.com/repos/ironhack-datalabs/scavenger/contents50896/.0011.scavengerhunt\n",
      "We have a github token:  04a6\n",
      "Requesting authorized https://api.github.com/repos/ironhack-datalabs/scavenger/contents55417/.0023.scavengerhunt\n",
      "We have a github token:  04a6\n",
      "Requesting authorized https://api.github.com/repos/ironhack-datalabs/scavenger/contents55685/.0020.scavengerhunt\n",
      "We have a github token:  04a6\n",
      "Requesting authorized https://api.github.com/repos/ironhack-datalabs/scavenger/contents60224/.0003.scavengerhunt\n",
      "We have a github token:  04a6\n",
      "Requesting authorized https://api.github.com/repos/ironhack-datalabs/scavenger/contents68848/.0004.scavengerhunt\n",
      "We have a github token:  04a6\n",
      "Requesting authorized https://api.github.com/repos/ironhack-datalabs/scavenger/contents70751/.0019.scavengerhunt\n",
      "We have a github token:  04a6\n",
      "Requesting authorized https://api.github.com/repos/ironhack-datalabs/scavenger/contents70985/.0017.scavengerhunt\n",
      "We have a github token:  04a6\n",
      "Requesting authorized https://api.github.com/repos/ironhack-datalabs/scavenger/contents88596/.0002.scavengerhunt\n",
      "We have a github token:  04a6\n",
      "Requesting authorized https://api.github.com/repos/ironhack-datalabs/scavenger/contents89338/.0013.scavengerhunt\n",
      "We have a github token:  04a6\n",
      "Requesting authorized https://api.github.com/repos/ironhack-datalabs/scavenger/contents91701/.0015.scavengerhunt\n",
      "We have a github token:  04a6\n",
      "Requesting authorized https://api.github.com/repos/ironhack-datalabs/scavenger/contents97881/.0009.scavengerhunt\n",
      "We have a github token:  04a6\n",
      "Requesting authorized https://api.github.com/repos/ironhack-datalabs/scavenger/contents98750/.0001.scavengerhunt\n"
     ]
    }
   ],
   "source": [
    "sentence = []\n",
    "for x in range(len(paths)):\n",
    "    if len(paths[x][0][\"name\"])>15:\n",
    "        sentence.append(githubRequestAuthorized(\"/repos/ironhack-datalabs/scavenger/contents\"+paths[x][0][\"path\"]).json())"
   ]
  },
  {
   "cell_type": "code",
   "execution_count": 5,
   "metadata": {},
   "outputs": [],
   "source": [
    "sentence = sorted(sentence, key = lambda i: i['name']) "
   ]
  },
  {
   "cell_type": "code",
   "execution_count": 6,
   "metadata": {},
   "outputs": [
    {
     "name": "stdout",
     "output_type": "stream",
     "text": [
      "In data science, 80 percent of time spent is preparing data, percent of time is spent complaining about the need to prepare\n"
     ]
    }
   ],
   "source": [
    "import base64\n",
    "words=[]\n",
    "for i in range(len(sentence)):\n",
    "    word = base64.b64decode(sentence[i][\"content\"])\n",
    "    word = str(word)\n",
    "    words.append(word[2:-3])\n",
    "OUTPUT = \" \".join(words)\n",
    "print(OUTPUT)\n",
    "    \n",
    "\n",
    "    "
   ]
  }
 ],
 "metadata": {
  "kernelspec": {
   "display_name": "Python 3",
   "language": "python",
   "name": "python3"
  },
  "language_info": {
   "codemirror_mode": {
    "name": "ipython",
    "version": 3
   },
   "file_extension": ".py",
   "mimetype": "text/x-python",
   "name": "python",
   "nbconvert_exporter": "python",
   "pygments_lexer": "ipython3",
   "version": "3.7.4"
  }
 },
 "nbformat": 4,
 "nbformat_minor": 2
}
